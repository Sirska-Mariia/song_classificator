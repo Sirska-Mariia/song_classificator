{
  "cells": [
    {
      "cell_type": "markdown",
      "metadata": {
        "id": "ptAwvVr23tun"
      },
      "source": [
        "# Побудова базових ML моделей"
      ]
    },
    {
      "cell_type": "code",
      "execution_count": null,
      "metadata": {
        "id": "y-gm7Jj-3fkQ"
      },
      "outputs": [],
      "source": [
        "import pandas as pd\n",
        "import numpy as np\n",
        "import matplotlib.pyplot as plt\n",
        "import seaborn as sns\n",
        "from pathlib import Path\n",
        "import pickle\n",
        "from sklearn.model_selection import cross_val_score, GridSearchCV\n",
        "from sklearn.preprocessing import StandardScaler, LabelEncoder\n",
        "from sklearn.neighbors import KNeighborsClassifier\n",
        "from sklearn.svm import SVC\n",
        "from sklearn.ensemble import RandomForestClassifier\n",
        "from sklearn.linear_model import LogisticRegression\n",
        "from sklearn.metrics import (classification_report, confusion_matrix,\n",
        "                              accuracy_score, f1_score, precision_score, recall_score)\n",
        "from scipy.sparse import hstack, csr_matrix"
      ]
    },
    {
      "cell_type": "markdown",
      "metadata": {
        "id": "KOWn4SRu3mBe"
      },
      "source": [
        "# Завантаження даних:"
      ]
    },
    {
      "cell_type": "code",
      "execution_count": null,
      "metadata": {
        "colab": {
          "base_uri": "https://localhost:8080/"
        },
        "id": "x4GGqWrF4T86",
        "outputId": "281480b3-7f60-43df-fc6f-e8e3b6b7581c"
      },
      "outputs": [
        {
          "name": "stdout",
          "output_type": "stream",
          "text": [
            "Mounted at /content/drive\n"
          ]
        }
      ],
      "source": [
        "from google.colab import drive\n",
        "drive.mount('/content/drive', force_remount=True)\n",
        "\n",
        "DATA_PATH = Path('/content/drive/MyDrive/MERGE_Bimodal_Balanced')\n",
        "PROCESSED_FILE = DATA_PATH / 'processed_data_with_all_features.csv'\n",
        "\n",
        "TRAIN_FILE = DATA_PATH / 'tvt_dataframes' / 'tvt_70_15_15' / 'tvt_70_15_15_train_bimodal_balanced.csv'\n",
        "VAL_FILE = DATA_PATH / 'tvt_dataframes' / 'tvt_70_15_15' / 'tvt_70_15_15_validate_bimodal_balanced.csv'\n",
        "TEST_FILE = DATA_PATH / 'tvt_dataframes' / 'tvt_70_15_15' / 'tvt_70_15_15_test_bimodal_balanced.csv'\n",
        "\n",
        "df_full = pd.read_csv(PROCESSED_FILE)\n",
        "\n",
        "df_train_ids = pd.read_csv(TRAIN_FILE)\n",
        "df_val_ids = pd.read_csv(VAL_FILE)\n",
        "df_test_ids = pd.read_csv(TEST_FILE)\n",
        "\n",
        "\n",
        "df_train = df_full.iloc[df_train_ids.index]\n",
        "df_val = df_full.iloc[df_val_ids.index]\n",
        "df_test = df_full.iloc[df_test_ids.index]\n",
        "\n",
        "train_song_ids = df_train_ids['Song'].values\n",
        "val_song_ids = df_val_ids['Song'].values\n",
        "test_song_ids = df_test_ids['Song'].values\n",
        "\n",
        "df_train = df_full[df_full['Audio_Song'].isin(train_song_ids)].copy()\n",
        "df_val = df_full[df_full['Audio_Song'].isin(val_song_ids)].copy()\n",
        "df_test = df_full[df_full['Audio_Song'].isin(test_song_ids)].copy()\n",
        "\n",
        "train_songs = set(df_train['Audio_Song'].values)\n",
        "val_songs = set(df_val['Audio_Song'].values)\n",
        "test_songs = set(df_test['Audio_Song'].values)\n",
        "\n",
        "overlap = train_songs & val_songs & test_songs\n"
      ]
    },
    {
      "cell_type": "markdown",
      "metadata": {
        "id": "MgKqTWNH5_L0"
      },
      "source": [
        "# Підготовка features:"
      ]
    },
    {
      "cell_type": "code",
      "execution_count": null,
      "metadata": {
        "colab": {
          "base_uri": "https://localhost:8080/"
        },
        "id": "y6aP2FMG6UdB",
        "outputId": "2d4e5997-dcd0-4e0c-8f3b-9592626bdf24"
      },
      "outputs": [
        {
          "name": "stdout",
          "output_type": "stream",
          "text": [
            "\n",
            "Text features: 5000 ознак\n",
            "Audio features: 43 ознак\n",
            "Combined features: 5043 ознак\n"
          ]
        }
      ],
      "source": [
        "tfidf_file = DATA_PATH / 'tfidf_matrix.pkl'\n",
        "with open(tfidf_file, 'rb') as f:\n",
        "    tfidf_data = pickle.load(f)\n",
        "    tfidf_vectorizer = tfidf_data['vectorizer']\n",
        "\n",
        "X_text_train = tfidf_vectorizer.transform(df_train['lyrics_processed'].fillna(''))\n",
        "X_text_val = tfidf_vectorizer.transform(df_val['lyrics_processed'].fillna(''))\n",
        "X_text_test = tfidf_vectorizer.transform(df_test['lyrics_processed'].fillna(''))\n",
        "\n",
        "print(f\"\\nText features: {X_text_train.shape[1]} ознак\")\n",
        "\n",
        "audio_feature_cols = [col for col in df_full.columns if any(\n",
        "    prefix in col for prefix in ['mfcc', 'chroma', 'spectral', 'tempo',\n",
        "                                   'zcr', 'rms', 'harmonic', 'percussive', 'mel']\n",
        ")]\n",
        "\n",
        "X_audio_train = df_train[audio_feature_cols].fillna(0).values\n",
        "X_audio_val = df_val[audio_feature_cols].fillna(0).values\n",
        "X_audio_test = df_test[audio_feature_cols].fillna(0).values\n",
        "\n",
        "print(f\"Audio features: {len(audio_feature_cols)} ознак\")\n",
        "scaler_audio = StandardScaler()\n",
        "X_audio_train_scaled = scaler_audio.fit_transform(X_audio_train)\n",
        "X_audio_val_scaled = scaler_audio.transform(X_audio_val)\n",
        "X_audio_test_scaled = scaler_audio.transform(X_audio_test)\n",
        "\n",
        "X_combined_train = hstack([X_text_train, csr_matrix(X_audio_train_scaled)])\n",
        "X_combined_val = hstack([X_text_val, csr_matrix(X_audio_val_scaled)])\n",
        "X_combined_test = hstack([X_text_test, csr_matrix(X_audio_test_scaled)])\n",
        "\n",
        "print(f\"Combined features: {X_combined_train.shape[1]} ознак\")\n",
        "\n",
        "y_train = df_train['emotion_quadrant'].values\n",
        "y_val = df_val['emotion_quadrant'].values\n",
        "y_test = df_test['emotion_quadrant'].values\n",
        "\n",
        "from sklearn.preprocessing import LabelEncoder\n",
        "label_encoder = LabelEncoder()\n",
        "\n",
        "y_train = label_encoder.fit_transform(y_train)\n",
        "y_val = label_encoder.transform(y_val)\n",
        "y_test = label_encoder.transform(y_test)"
      ]
    },
    {
      "cell_type": "markdown",
      "metadata": {
        "id": "rn9P3Bxs6fT8"
      },
      "source": [
        "# BASELINE MODELS (TEXT ONLY):"
      ]
    },
    {
      "cell_type": "code",
      "execution_count": null,
      "metadata": {
        "colab": {
          "base_uri": "https://localhost:8080/"
        },
        "id": "Pl0C_s9A63do",
        "outputId": "6b9ce377-fb7b-4646-8633-e8a4cd11c9b1"
      },
      "outputs": [
        {
          "name": "stdout",
          "output_type": "stream",
          "text": [
            "\n",
            "Навчання Logistic Regression\n",
            "  Val Accuracy: 0.6167\n",
            "  Val F1-Score: 0.6165\n",
            "\n",
            "Навчання KNN\n",
            "  Val Accuracy: 0.4900\n",
            "  Val F1-Score: 0.4881\n",
            "\n",
            "Навчання SVM\n",
            "  Val Accuracy: 0.5333\n",
            "  Val F1-Score: 0.5365\n",
            "\n",
            "Навчання Random Forest\n",
            "  Val Accuracy: 0.5600\n",
            "  Val F1-Score: 0.5593\n"
          ]
        }
      ],
      "source": [
        "models_text = {\n",
        "    'Logistic Regression': LogisticRegression(max_iter=1000, random_state=42),\n",
        "    'KNN': KNeighborsClassifier(n_neighbors=7),\n",
        "    'SVM': SVC(kernel='linear', C=0.1, probability=True, random_state=42),\n",
        "    'Random Forest': RandomForestClassifier(\n",
        "        n_estimators=100, max_depth=15, min_samples_split=10,\n",
        "        min_samples_leaf=4, max_features='sqrt', random_state=42\n",
        "    )\n",
        "}\n",
        "\n",
        "results_text = {}\n",
        "\n",
        "for name, model in models_text.items():\n",
        "    print(f\"\\nНавчання {name}\")\n",
        "    model.fit(X_text_train, y_train)\n",
        "    y_val_pred = model.predict(X_text_val)\n",
        "\n",
        "    results_text[name] = {\n",
        "        'model': model,\n",
        "        'accuracy': accuracy_score(y_val, y_val_pred),\n",
        "        'f1': f1_score(y_val, y_val_pred, average='weighted'),\n",
        "        'precision': precision_score(y_val, y_val_pred, average='weighted', zero_division=0),\n",
        "        'recall': recall_score(y_val, y_val_pred, average='weighted'),\n",
        "        'predictions': y_val_pred\n",
        "    }\n",
        "\n",
        "    print(f\"  Val Accuracy: {results_text[name]['accuracy']:.4f}\")\n",
        "    print(f\"  Val F1-Score: {results_text[name]['f1']:.4f}\")"
      ]
    },
    {
      "cell_type": "markdown",
      "metadata": {
        "id": "76PC4qAp66q3"
      },
      "source": [
        "# BASELINE MODELS (AUDIO ONLY)"
      ]
    },
    {
      "cell_type": "code",
      "execution_count": null,
      "metadata": {
        "colab": {
          "base_uri": "https://localhost:8080/"
        },
        "id": "VRG96qnQ65qh",
        "outputId": "b868859c-10e7-488b-d884-f6a2af8c06f3"
      },
      "outputs": [
        {
          "name": "stdout",
          "output_type": "stream",
          "text": [
            "\n",
            "Навчання Logistic Regression\n",
            "  Val Accuracy: 0.6333\n",
            "  Val F1-Score: 0.6306\n",
            "\n",
            "Навчання KNN\n",
            "  Val Accuracy: 0.5867\n",
            "  Val F1-Score: 0.5851\n",
            "\n",
            "Навчання SVM\n",
            "  Val Accuracy: 0.6400\n",
            "  Val F1-Score: 0.6367\n",
            "\n",
            "Навчання Random Forest\n",
            "  Val Accuracy: 0.5900\n",
            "  Val F1-Score: 0.5882\n"
          ]
        }
      ],
      "source": [
        "models_audio = {\n",
        "    'Logistic Regression': LogisticRegression(max_iter=1000, C=0.5, random_state=42),\n",
        "    'KNN': KNeighborsClassifier(n_neighbors=9),\n",
        "    'SVM': SVC(kernel='rbf', C=1.0, gamma='scale', probability=True, random_state=42),\n",
        "    'Random Forest': RandomForestClassifier(\n",
        "        n_estimators=100, max_depth=10, min_samples_split=10,\n",
        "        min_samples_leaf=4, random_state=42\n",
        "    )\n",
        "}\n",
        "\n",
        "results_audio = {}\n",
        "\n",
        "for name, model in models_audio.items():\n",
        "    print(f\"\\nНавчання {name}\")\n",
        "    model.fit(X_audio_train_scaled, y_train)\n",
        "    y_val_pred = model.predict(X_audio_val_scaled)\n",
        "\n",
        "    results_audio[name] = {\n",
        "        'model': model,\n",
        "        'accuracy': accuracy_score(y_val, y_val_pred),\n",
        "        'f1': f1_score(y_val, y_val_pred, average='weighted'),\n",
        "        'precision': precision_score(y_val, y_val_pred, average='weighted', zero_division=0),\n",
        "        'recall': recall_score(y_val, y_val_pred, average='weighted'),\n",
        "        'predictions': y_val_pred\n",
        "    }\n",
        "\n",
        "    print(f\"  Val Accuracy: {results_audio[name]['accuracy']:.4f}\")\n",
        "    print(f\"  Val F1-Score: {results_audio[name]['f1']:.4f}\")\n"
      ]
    },
    {
      "cell_type": "markdown",
      "metadata": {
        "id": "xfhP_1WK7MJA"
      },
      "source": [
        "# MULTIMODAL MODELS - (TEXT + AUDIO)"
      ]
    },
    {
      "cell_type": "code",
      "execution_count": null,
      "metadata": {
        "colab": {
          "base_uri": "https://localhost:8080/"
        },
        "id": "AClfxkPO7MzC",
        "outputId": "72d067a4-f964-4c65-d818-610f4974af5d"
      },
      "outputs": [
        {
          "name": "stdout",
          "output_type": "stream",
          "text": [
            "\n",
            "Навчання Logistic Regression...\n",
            "     Accuracy:  0.6667\n",
            "     F1-score:  0.6633\n",
            "\n",
            "Навчання KNN...\n",
            "     Accuracy:  0.5900\n",
            "     F1-score:  0.5886\n",
            "\n",
            "Навчання SVM...\n",
            "     Accuracy:  0.6433\n",
            "     F1-score:  0.6397\n",
            "\n",
            "Навчання Random Forest...\n",
            "     Accuracy:  0.6367\n",
            "     F1-score:  0.6340\n"
          ]
        }
      ],
      "source": [
        "models_combined = {\n",
        "    'Logistic Regression': LogisticRegression(max_iter=1000, C=0.5, random_state=42),\n",
        "    'KNN': KNeighborsClassifier(n_neighbors=9),\n",
        "    'SVM': SVC(kernel='rbf', C=1.0, gamma='scale', random_state=42),\n",
        "    'Random Forest': RandomForestClassifier(\n",
        "        n_estimators=50,\n",
        "        max_depth=10,\n",
        "        min_samples_split=20,\n",
        "        min_samples_leaf=8,\n",
        "        max_features='sqrt',\n",
        "        random_state=42\n",
        "    )\n",
        "}\n",
        "\n",
        "results_combined = {}\n",
        "\n",
        "for name, model in models_combined.items():\n",
        "    print(f\"\\nНавчання {name}...\")\n",
        "\n",
        "    model.fit(X_combined_train, y_train)\n",
        "    y_val_pred = model.predict(X_combined_val)\n",
        "\n",
        "    accuracy = accuracy_score(y_val, y_val_pred)\n",
        "    f1 = f1_score(y_val, y_val_pred, average='weighted')\n",
        "    precision = precision_score(y_val, y_val_pred, average='weighted', zero_division=0)\n",
        "    recall = recall_score(y_val, y_val_pred, average='weighted')\n",
        "\n",
        "    results_combined[name] = {\n",
        "        'model': model,\n",
        "        'accuracy': accuracy,\n",
        "        'f1': f1,\n",
        "        'precision': precision,\n",
        "        'recall': recall,\n",
        "        'predictions': y_val_pred\n",
        "    }\n",
        "\n",
        "    print(f\"     Accuracy:  {accuracy:.4f}\")\n",
        "    print(f\"     F1-score:  {f1:.4f}\")"
      ]
    },
    {
      "cell_type": "markdown",
      "metadata": {
        "id": "cXJOsK9s7kpI"
      },
      "source": [
        "# Validation"
      ]
    },
    {
      "cell_type": "code",
      "execution_count": null,
      "metadata": {
        "colab": {
          "base_uri": "https://localhost:8080/",
          "height": 680
        },
        "id": "ZXi8mhEf7kP8",
        "outputId": "c115187f-5c2c-46b2-ea9b-4c609c6e3aea"
      },
      "outputs": [
        {
          "name": "stdout",
          "output_type": "stream",
          "text": [
            "    Approach          Best Model  F1-Score  Accuracy\n",
            "   Text-only Logistic Regression  0.616460  0.616667\n",
            "  Audio-only                 SVM  0.636741  0.640000\n",
            "Text + Audio Logistic Regression  0.663261  0.666667\n"
          ]
        },
        {
          "data": {
            "image/png": "[encoded data removed]",
            "text/plain": [
              "<Figure size 1000x600 with 1 Axes>"
            ]
          },
          "metadata": {},
          "output_type": "display_data"
        }
      ],
      "source": [
        "best_text = max(results_text.items(), key=lambda x: x[1]['f1'])\n",
        "best_audio = max(results_audio.items(), key=lambda x: x[1]['f1'])\n",
        "best_combined = max(results_combined.items(), key=lambda x: x[1]['f1'])\n",
        "\n",
        "comparison_df = pd.DataFrame({\n",
        "    'Approach': ['Text-only', 'Audio-only', 'Text + Audio'],\n",
        "    'Best Model': [best_text[0], best_audio[0], best_combined[0]],\n",
        "    'F1-Score': [best_text[1]['f1'], best_audio[1]['f1'], best_combined[1]['f1']],\n",
        "    'Accuracy': [best_text[1]['accuracy'], best_audio[1]['accuracy'], best_combined[1]['accuracy']]\n",
        "})\n",
        "\n",
        "print(comparison_df.to_string(index=False))\n",
        "fig, ax = plt.subplots(figsize=(10, 6))\n",
        "x = np.arange(len(comparison_df))\n",
        "width = 0.35\n",
        "\n",
        "ax.bar(x - width/2, comparison_df['Accuracy'], width, label='Accuracy', alpha=0.8)\n",
        "ax.bar(x + width/2, comparison_df['F1-Score'], width, label='F1-Score', alpha=0.8)\n",
        "\n",
        "ax.set_xlabel('Підхід', fontsize=12)\n",
        "ax.set_ylabel('Значення метрики', fontsize=12)\n",
        "ax.set_title('Порівняння підходів (найкращі моделі)', fontsize=14, fontweight='bold')\n",
        "ax.set_xticks(x)\n",
        "ax.set_xticklabels(comparison_df['Approach'])\n",
        "ax.legend()\n",
        "ax.grid(axis='y', alpha=0.3)\n",
        "\n",
        "for i, v in enumerate(comparison_df['F1-Score']):\n",
        "    ax.text(i + width/2, v + 0.01, f'{v:.3f}', ha='center', fontweight='bold')\n",
        "\n",
        "plt.tight_layout()\n",
        "plt.show()"
      ]
    },
    {
      "cell_type": "markdown",
      "metadata": {
        "id": "t9WbnDmx77PW"
      },
      "source": [
        "# Оцінка на TEST SET:"
      ]
    },
    {
      "cell_type": "code",
      "execution_count": null,
      "metadata": {
        "colab": {
          "base_uri": "https://localhost:8080/",
          "height": 726
        },
        "id": "JncAWruY77u_",
        "outputId": "03817d5a-e39a-472a-fd3d-2a9f7923efc8"
      },
      "outputs": [
        {
          "name": "stdout",
          "output_type": "stream",
          "text": [
            "\n",
            "Text-only (Logistic Regression):\n",
            "   Accuracy: 0.7000\n",
            "   F1-Score: 0.6989\n",
            "\n",
            "Audio-only (SVM):\n",
            "   Accuracy: 0.6267\n",
            "   F1-Score: 0.6244\n",
            "\n",
            "Combined (Logistic Regression):\n",
            "   Accuracy: 0.6933\n",
            "   F1-Score: 0.6948\n"
          ]
        },
        {
          "data": {
            "image/png": "[encoded data removed]",
            "text/plain": [
              "<Figure size 800x500 with 1 Axes>"
            ]
          },
          "metadata": {},
          "output_type": "display_data"
        }
      ],
      "source": [
        "print(f\"\\nText-only ({best_text[0]}):\")\n",
        "y_test_pred_text = best_text[1]['model'].predict(X_text_test)\n",
        "test_acc_text = accuracy_score(y_test, y_test_pred_text)\n",
        "test_f1_text = f1_score(y_test, y_test_pred_text, average='weighted')\n",
        "print(f\"   Accuracy: {test_acc_text:.4f}\")\n",
        "print(f\"   F1-Score: {test_f1_text:.4f}\")\n",
        "\n",
        "print(f\"\\nAudio-only ({best_audio[0]}):\")\n",
        "y_test_pred_audio = best_audio[1]['model'].predict(X_audio_test_scaled)\n",
        "test_acc_audio = accuracy_score(y_test, y_test_pred_audio)\n",
        "test_f1_audio = f1_score(y_test, y_test_pred_audio, average='weighted')\n",
        "print(f\"   Accuracy: {test_acc_audio:.4f}\")\n",
        "print(f\"   F1-Score: {test_f1_audio:.4f}\")\n",
        "\n",
        "print(f\"\\nCombined ({best_combined[0]}):\")\n",
        "y_test_pred_combined = best_combined[1]['model'].predict(X_combined_test)\n",
        "test_acc_combined = accuracy_score(y_test, y_test_pred_combined)\n",
        "test_f1_combined = f1_score(y_test, y_test_pred_combined, average='weighted')\n",
        "print(f\"   Accuracy: {test_acc_combined:.4f}\")\n",
        "print(f\"   F1-Score: {test_f1_combined:.4f}\")\n",
        "labels = ['Text-only', 'Audio-only', 'Combined']\n",
        "acc_scores = [test_acc_text, test_acc_audio, test_acc_combined]\n",
        "f1_scores = [test_f1_text, test_f1_audio, test_f1_combined]\n",
        "\n",
        "x = np.arange(len(labels))\n",
        "width = 0.35\n",
        "\n",
        "plt.figure(figsize=(8, 5))\n",
        "bars1 = plt.bar(x - width/2, acc_scores, width, label='Accuracy')\n",
        "bars2 = plt.bar(x + width/2, f1_scores, width, label='F1-score')\n",
        "\n",
        "for bars in [bars1, bars2]:\n",
        "    for bar in bars:\n",
        "        height = bar.get_height()\n",
        "        plt.text(bar.get_x() + bar.get_width()/2, height + 0.01, f\"{height:.2f}\",\n",
        "                 ha='center', va='bottom', fontsize=9)\n",
        "\n",
        "plt.xticks(x, labels)\n",
        "plt.ylabel(\"Score\")\n",
        "plt.title('Порівняння підходів (найкращі моделі)', fontsize=14, fontweight='bold')\n",
        "plt.legend()\n",
        "plt.ylim(0, 1)\n",
        "plt.tight_layout()\n",
        "plt.show()"
      ]
    }
  ],
  "metadata": {
    "colab": {
      "provenance": []
    },
    "kernelspec": {
      "display_name": "Python 3",
      "name": "python3"
    },
    "language_info": {
      "name": "python"
    }
  },
  "nbformat": 4,
  "nbformat_minor": 0
}
